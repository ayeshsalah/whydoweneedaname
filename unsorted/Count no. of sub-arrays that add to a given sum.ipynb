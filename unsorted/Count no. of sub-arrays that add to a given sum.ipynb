{
 "cells": [
  {
   "cell_type": "code",
   "execution_count": 13,
   "metadata": {},
   "outputs": [],
   "source": [
    "def subArraySum(arr, n, Sum):  \n",
    "   \n",
    "    # create an empty map  \n",
    "    Map = {}  \n",
    "    \n",
    "    # Maintains sum of elements so far  \n",
    "    curr_sum = 0 \n",
    "    \n",
    "    for i in range(n):  \n",
    "       \n",
    "        # add current element to curr_sum  \n",
    "        curr_sum = curr_sum + arr[i]  \n",
    "    \n",
    "        # if curr_sum is equal to target sum  \n",
    "        # we found a subarray starting from index 0  \n",
    "        # and ending at index i  \n",
    "        if curr_sum == Sum:  \n",
    "           \n",
    "            print(\"Sum found between indexes 0 to\", i) \n",
    "            return \n",
    "           \n",
    "    \n",
    "        # If curr_sum - sum already exists in map  \n",
    "        # we have found a subarray with target sum  \n",
    "        if (curr_sum - Sum) in Map:  \n",
    "           \n",
    "            print(\"Sum found between indexes\", Map[curr_sum - Sum] + 1, \"to\", i)  \n",
    "              \n",
    "            return 1\n",
    "    \n",
    "        Map[curr_sum] = i  \n",
    "    \n",
    "    # If we reach here, then no subarray exists  \n",
    "    print(\"No subarray with given sum exists\")  \n",
    "    return -1"
   ]
  },
  {
   "cell_type": "code",
   "execution_count": 23,
   "metadata": {},
   "outputs": [
    {
     "name": "stdout",
     "output_type": "stream",
     "text": [
      "[9, 4, 20, 3, 10, 5]\n",
      "Sum found between indexes 0 to 2\n",
      "[4, 20, 3, 10, 5]\n",
      "Sum found between indexes 1 to 3\n",
      "[20, 3, 10, 5]\n",
      "Sum found between indexes 0 to 2\n",
      "[3, 10, 5]\n",
      "No subarray with given sum exists\n",
      "[10, 5]\n",
      "No subarray with given sum exists\n",
      "3\n"
     ]
    }
   ],
   "source": [
    "arr = [10, 2, -2, -20, 10]  \n",
    "arr = [9, 4, 20, 3, 10, 5]\n",
    "n = len(arr)  \n",
    "Sum = 33\n",
    "\n",
    "count = 0\n",
    "for item in range(n -1):\n",
    "#     print(item)\n",
    "    print(arr[item:])\n",
    "    result = subArraySum(arr[item:], len(arr[item:]), Sum)  \n",
    "    if result != -1:\n",
    "        count +=1\n",
    "\n",
    "print(count)"
   ]
  },
  {
   "cell_type": "code",
   "execution_count": null,
   "metadata": {},
   "outputs": [],
   "source": []
  }
 ],
 "metadata": {
  "kernelspec": {
   "display_name": "Python 3",
   "language": "python",
   "name": "python3"
  },
  "language_info": {
   "codemirror_mode": {
    "name": "ipython",
    "version": 3
   },
   "file_extension": ".py",
   "mimetype": "text/x-python",
   "name": "python",
   "nbconvert_exporter": "python",
   "pygments_lexer": "ipython3",
   "version": "3.7.2"
  }
 },
 "nbformat": 4,
 "nbformat_minor": 2
}
