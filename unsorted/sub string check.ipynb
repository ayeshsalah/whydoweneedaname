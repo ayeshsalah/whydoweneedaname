{
 "cells": [
  {
   "cell_type": "markdown",
   "metadata": {},
   "source": [
    "## Make a function to check substr in str \n"
   ]
  },
  {
   "cell_type": "code",
   "execution_count": 4,
   "metadata": {},
   "outputs": [],
   "source": [
    "def check_substr(str1, str2):\n",
    "    if str2 in str1:\n",
    "        print(\"SubString\")\n",
    "    else:\n",
    "        print(\"Not a substring\")"
   ]
  },
  {
   "cell_type": "code",
   "execution_count": 5,
   "metadata": {},
   "outputs": [
    {
     "name": "stdout",
     "output_type": "stream",
     "text": [
      "Not a substring\n"
     ]
    }
   ],
   "source": [
    "check_substr(\"ayesh\", \"sey\")"
   ]
  },
  {
   "cell_type": "code",
   "execution_count": 6,
   "metadata": {},
   "outputs": [],
   "source": [
    "import itertools "
   ]
  },
  {
   "cell_type": "code",
   "execution_count": 19,
   "metadata": {},
   "outputs": [],
   "source": [
    "def check_sub(str1, str2):\n",
    "    str1 = list(str1)\n",
    "    str2 = list(str2)\n",
    "    start_index = -1\n",
    "    end_index = -1\n",
    "    is_continous = 0\n",
    "    for (index1, char1), (index2, char2) in zip(enumerate(str1), enumerate(str2)):\n",
    "        print(char1)\n",
    "        print(char2)\n",
    "        if char1 == char2:\n",
    "            if start_index == -1:\n",
    "                start_index = index1\n",
    "                end_index = index1\n",
    "            else:\n",
    "                end_index += 1\n",
    "    print(start_index)\n",
    "    print(end_index)\n",
    "    return str1[start_index:end_index]"
   ]
  },
  {
   "cell_type": "code",
   "execution_count": 78,
   "metadata": {},
   "outputs": [],
   "source": [
    "def check_substr(str1, str2):\n",
    "    str1 = list(str1)\n",
    "    str2 = list(str2)\n",
    "    start_index = 0\n",
    "    end_index = -1\n",
    "    substr = []\n",
    "    for index1, char1 in enumerate(str1):\n",
    "#         print(char1)\n",
    "        for char2 in str2[start_index:]:\n",
    "            if char1 == char2:\n",
    "                substr.append(char2)\n",
    "                start_index = index1\n",
    "            else:\n",
    "                break      \n",
    "    if len(substr) == len(str2):\n",
    "        return \"substring\"\n",
    "    else:\n",
    "        return \"not substring\""
   ]
  },
  {
   "cell_type": "code",
   "execution_count": 75,
   "metadata": {},
   "outputs": [],
   "source": [
    "def check_substr_1(str1, str2):\n",
    "    substr = []\n",
    "    for char1 in str1:\n",
    "#         print(char1)\n",
    "        for char2 in str2:\n",
    "            print(char2)\n",
    "            if char1 == char2:\n",
    "                substr.append(char2)\n",
    "            else:\n",
    "                break\n",
    "    return substr"
   ]
  },
  {
   "cell_type": "code",
   "execution_count": 79,
   "metadata": {},
   "outputs": [
    {
     "name": "stdout",
     "output_type": "stream",
     "text": [
      "y\n",
      "y\n",
      "e\n",
      "e\n",
      "s\n",
      "s\n",
      "['y', 'e', 's']\n"
     ]
    },
    {
     "data": {
      "text/plain": [
       "'substring'"
      ]
     },
     "execution_count": 79,
     "metadata": {},
     "output_type": "execute_result"
    }
   ],
   "source": [
    "check_substr(\"ayesh\", \"yes\")"
   ]
  },
  {
   "cell_type": "code",
   "execution_count": 77,
   "metadata": {},
   "outputs": [
    {
     "name": "stdout",
     "output_type": "stream",
     "text": [
      "y\n",
      "y\n",
      "e\n",
      "y\n",
      "y\n",
      "y\n"
     ]
    },
    {
     "data": {
      "text/plain": [
       "['y']"
      ]
     },
     "execution_count": 77,
     "metadata": {},
     "output_type": "execute_result"
    }
   ],
   "source": [
    "check_substr_1(\"ayesh\", \"yes\")"
   ]
  },
  {
   "cell_type": "code",
   "execution_count": null,
   "metadata": {},
   "outputs": [],
   "source": [
    "\"ayesh\", \"ysh\""
   ]
  }
 ],
 "metadata": {
  "kernelspec": {
   "display_name": "Python 3",
   "language": "python",
   "name": "python3"
  },
  "language_info": {
   "codemirror_mode": {
    "name": "ipython",
    "version": 3
   },
   "file_extension": ".py",
   "mimetype": "text/x-python",
   "name": "python",
   "nbconvert_exporter": "python",
   "pygments_lexer": "ipython3",
   "version": "3.7.2"
  }
 },
 "nbformat": 4,
 "nbformat_minor": 2
}
