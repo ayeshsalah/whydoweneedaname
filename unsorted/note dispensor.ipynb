{
 "cells": [
  {
   "cell_type": "code",
   "execution_count": 31,
   "metadata": {},
   "outputs": [],
   "source": [
    "def countCurrency(amount): \n",
    "      \n",
    "    notes = [2000, 500, 200, 100, \n",
    "               50, 20, 10, 5] \n",
    "                 \n",
    "    noteCounter = [0, 0, 0, 0, 0, \n",
    "                     0, 0, 0] \n",
    "      \n",
    "#     print (\"Currency Count -> \") \n",
    "      \n",
    "    for index, i in enumerate(notes): \n",
    "        if not amount <= notes[-1]: \n",
    "            j = amount // i \n",
    "            noteCounter[index] = j\n",
    "            amount = amount - j * i \n",
    "#             print (i ,\" : \", j) \n",
    "    \n",
    "    if amount > 0:\n",
    "        print(\"invalid amount\")\n",
    "        print(\"amount cannot be dispen\",amount)\n",
    "    else:\n",
    "        print(notes)\n",
    "        print(noteCounter)\n",
    "        "
   ]
  },
  {
   "cell_type": "code",
   "execution_count": 32,
   "metadata": {},
   "outputs": [
    {
     "name": "stdout",
     "output_type": "stream",
     "text": [
      "invalid amount\n",
      "amount cannot be dispen 2\n"
     ]
    }
   ],
   "source": [
    "countCurrency(45322)"
   ]
  }
 ],
 "metadata": {
  "kernelspec": {
   "display_name": "Python 3",
   "language": "python",
   "name": "python3"
  },
  "language_info": {
   "codemirror_mode": {
    "name": "ipython",
    "version": 3
   },
   "file_extension": ".py",
   "mimetype": "text/x-python",
   "name": "python",
   "nbconvert_exporter": "python",
   "pygments_lexer": "ipython3",
   "version": "3.6.3"
  }
 },
 "nbformat": 4,
 "nbformat_minor": 2
}
