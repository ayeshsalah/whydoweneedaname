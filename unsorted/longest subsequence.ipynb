{
 "cells": [
  {
   "cell_type": "code",
   "execution_count": 103,
   "metadata": {},
   "outputs": [],
   "source": [
    "def lcs(str1, str2):\n",
    "    matrix = [[0 for x in range(len(str2)+1)] for y in range(len(str1)+1)] \n",
    "    for i in range(len(str1)):\n",
    "        for j in range(len(str2)):\n",
    "            if str1[i] == str2[j]:\n",
    "                matrix[i+1][j+1] = matrix[i][j] + 1\n",
    "            else:\n",
    "                matrix[i+1][j+1] = max(matrix[i+1][j], matrix[i][j+1])\n",
    "    print(matrix)\n",
    "    return(matrix[-1][-1])"
   ]
  },
  {
   "cell_type": "code",
   "execution_count": 104,
   "metadata": {},
   "outputs": [
    {
     "name": "stdout",
     "output_type": "stream",
     "text": [
      "[[0, 0, 0, 0, 0, 0, 0], [0, 1, 1, 1, 1, 1, 1], [0, 1, 2, 2, 2, 2, 2], [0, 1, 2, 3, 3, 3, 3], [0, 1, 2, 3, 3, 3, 4], [0, 1, 2, 3, 3, 3, 4], [0, 1, 2, 3, 3, 3, 4], [0, 1, 2, 3, 3, 3, 4], [0, 1, 2, 3, 3, 3, 4]]\n"
     ]
    },
    {
     "data": {
      "text/plain": [
       "4"
      ]
     },
     "execution_count": 104,
     "metadata": {},
     "output_type": "execute_result"
    }
   ],
   "source": [
    "lcs(\"abcdeewy\", \"abczxd\")"
   ]
  },
  {
   "cell_type": "code",
   "execution_count": 105,
   "metadata": {},
   "outputs": [
    {
     "name": "stdout",
     "output_type": "stream",
     "text": [
      "[[0, 0, 0, 0, 0, 0, 0, 0, 0], [0, 0, 0, 0, 0, 0, 0, 0, 0], [0, 0, 0, 1, 1, 1, 1, 1, 1], [0, 0, 0, 1, 1, 1, 1, 1, 1], [0, 1, 1, 1, 1, 1, 1, 1, 1], [0, 1, 1, 1, 1, 1, 1, 1, 1], [0, 1, 1, 2, 2, 2, 2, 2, 2], [0, 1, 1, 2, 3, 3, 3, 3, 3], [0, 1, 1, 2, 3, 3, 3, 3, 3]]\n"
     ]
    },
    {
     "data": {
      "text/plain": [
       "3"
      ]
     },
     "execution_count": 105,
     "metadata": {},
     "output_type": "execute_result"
    }
   ],
   "source": [
    "lcs(\"SHINCHAN\", \"NOHARAAA\")"
   ]
  }
 ],
 "metadata": {
  "kernelspec": {
   "display_name": "Python 3",
   "language": "python",
   "name": "python3"
  },
  "language_info": {
   "codemirror_mode": {
    "name": "ipython",
    "version": 3
   },
   "file_extension": ".py",
   "mimetype": "text/x-python",
   "name": "python",
   "nbconvert_exporter": "python",
   "pygments_lexer": "ipython3",
   "version": "3.7.2"
  }
 },
 "nbformat": 4,
 "nbformat_minor": 2
}
