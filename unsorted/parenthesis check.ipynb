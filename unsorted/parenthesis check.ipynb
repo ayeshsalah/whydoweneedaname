{
 "cells": [
  {
   "cell_type": "code",
   "execution_count": 1,
   "metadata": {},
   "outputs": [],
   "source": [
    "test_str = \"(){}[]\""
   ]
  },
  {
   "cell_type": "code",
   "execution_count": 1,
   "metadata": {},
   "outputs": [],
   "source": [
    "def para_check(string):\n",
    "    if len(string) % 2 != 0:\n",
    "        return False\n",
    "\n",
    "    opening = set('([{')\n",
    "    pairs = set((('(',')'), ('[',']'), ('{','}')))\n",
    "    result = []\n",
    "    \n",
    "    for paren in string:\n",
    "        if paren in opening:\n",
    "            result.append(paren)\n",
    "        else:\n",
    "            if len(string) == 0:\n",
    "                return False\n",
    "            last_paren = result.pop()\n",
    "            if (last_paren, paren) not in pairs:\n",
    "                return False\n",
    "    return len(result) == 0\n",
    "            "
   ]
  },
  {
   "cell_type": "code",
   "execution_count": 4,
   "metadata": {},
   "outputs": [
    {
     "data": {
      "text/plain": [
       "True"
      ]
     },
     "execution_count": 4,
     "metadata": {},
     "output_type": "execute_result"
    }
   ],
   "source": [
    "para_check(\"([{}])\")"
   ]
  },
  {
   "cell_type": "code",
   "execution_count": 10,
   "metadata": {},
   "outputs": [
    {
     "name": "stdout",
     "output_type": "stream",
     "text": [
      "('(', ')')\n",
      "('{', '}')\n",
      "('[', ']')\n"
     ]
    }
   ],
   "source": [
    "for item in pairs:\n",
    "    print(item)"
   ]
  }
 ],
 "metadata": {
  "kernelspec": {
   "display_name": "Python 3",
   "language": "python",
   "name": "python3"
  },
  "language_info": {
   "codemirror_mode": {
    "name": "ipython",
    "version": 3
   },
   "file_extension": ".py",
   "mimetype": "text/x-python",
   "name": "python",
   "nbconvert_exporter": "python",
   "pygments_lexer": "ipython3",
   "version": "3.6.3"
  }
 },
 "nbformat": 4,
 "nbformat_minor": 2
}
